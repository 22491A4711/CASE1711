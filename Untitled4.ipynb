{
  "nbformat": 4,
  "nbformat_minor": 0,
  "metadata": {
    "colab": {
      "provenance": [],
      "authorship_tag": "ABX9TyN4cB7z9CngpIPbOPkm6RIi",
      "include_colab_link": true
    },
    "kernelspec": {
      "name": "python3",
      "display_name": "Python 3"
    },
    "language_info": {
      "name": "python"
    }
  },
  "cells": [
    {
      "cell_type": "markdown",
      "metadata": {
        "id": "view-in-github",
        "colab_type": "text"
      },
      "source": [
        "<a href=\"https://colab.research.google.com/github/22491A4711/CASE1711/blob/main/Untitled4.ipynb\" target=\"_parent\"><img src=\"https://colab.research.google.com/assets/colab-badge.svg\" alt=\"Open In Colab\"/></a>"
      ]
    },
    {
      "cell_type": "code",
      "source": [
        "import pandas as pd\n",
        "from sklearn.model_selection import train_test_split\n",
        "from sklearn.feature_extraction.text import TfidfVectorizer\n",
        "from sklearn.linear_model import LogisticRegression\n",
        "from sklearn.metrics import accuracy_score, classification_report\n",
        "\n",
        "# Load dataset from a CSV file\n",
        "# Make sure your CSV file is in the same directory or provide the full path\n",
        "data = pd.read_csv('/content/IMDB_200_reviews_sample.csv')\n",
        "\n",
        "# Display the first few rows to ensure it's loaded correctly\n",
        "print(data.head())\n",
        "\n",
        "# Split dataset into training and test sets\n",
        "X = data['review']\n",
        "y = data['sentiment']\n",
        "X_train, X_test, y_train, y_test = train_test_split(X, y, test_size=0.2, random_state=42)\n",
        "\n",
        "# Convert text data to numerical data using TF-IDF\n",
        "tfidf_vectorizer = TfidfVectorizer(max_features=5000)\n",
        "X_train_tfidf = tfidf_vectorizer.fit_transform(X_train)\n",
        "X_test_tfidf = tfidf_vectorizer.transform(X_test)\n",
        "\n",
        "# Train logistic regression model\n",
        "model = LogisticRegression()\n",
        "model.fit(X_train_tfidf, y_train)\n",
        "\n",
        "# Predict on test set\n",
        "y_pred = model.predict(X_test_tfidf)\n",
        "\n",
        "# Evaluate model\n",
        "accuracy = accuracy_score(y_test, y_pred)\n",
        "print(f'Accuracy: {accuracy:.2f}')\n",
        "print('\\nClassification Report:\\n', classification_report(y_test, y_pred))\n",
        "\n",
        "# Example of predicting sentiment for a new review\n",
        "new_review = [\"The movie was surprisingly entertaining and fun to watch.\"]\n",
        "new_review_tfidf = tfidf_vectorizer.transform(new_review)\n",
        "prediction = model.predict(new_review_tfidf)\n",
        "print(f'Predicted Sentiment (1=Positive, 0=Negative): {prediction[0]}')\n"
      ],
      "metadata": {
        "colab": {
          "base_uri": "https://localhost:8080/"
        },
        "id": "sttL6aSNa3zx",
        "outputId": "d8f63afb-c276-43ee-9593-819c6465b91e"
      },
      "execution_count": 3,
      "outputs": [
        {
          "output_type": "stream",
          "name": "stdout",
          "text": [
            "                                              review sentiment\n",
            "0  This movie was fantastic! The plot was engagin...  positive\n",
            "1  I didn't enjoy this movie. The storyline was p...  negative\n",
            "2  The actors did a great job, and I loved the ci...  positive\n",
            "3  The film was a waste of time. I wouldn’t recom...  negative\n",
            "4  An amazing film with a moving story and incred...  positive\n",
            "Accuracy: 1.00\n",
            "\n",
            "Classification Report:\n",
            "               precision    recall  f1-score   support\n",
            "\n",
            "    negative       1.00      1.00      1.00        22\n",
            "    positive       1.00      1.00      1.00        18\n",
            "\n",
            "    accuracy                           1.00        40\n",
            "   macro avg       1.00      1.00      1.00        40\n",
            "weighted avg       1.00      1.00      1.00        40\n",
            "\n",
            "Predicted Sentiment (1=Positive, 0=Negative): negative\n"
          ]
        }
      ]
    },
    {
      "cell_type": "code",
      "source": [
        "import pandas as pd\n",
        "from sklearn.model_selection import train_test_split\n",
        "from sklearn.feature_extraction.text import TfidfVectorizer\n",
        "from sklearn.svm import SVC\n",
        "from sklearn.metrics import accuracy_score, classification_report\n",
        "\n",
        "# Load dataset from a CSV file\n",
        "data = pd.read_csv('/content/IMDB_200_reviews_sample.csv')\n",
        "\n",
        "# Display the first few rows to ensure it's loaded correctly\n",
        "print(data.head())\n",
        "\n",
        "# Split dataset into training and test sets\n",
        "X = data['review']\n",
        "y = data['sentiment']\n",
        "X_train, X_test, y_train, y_test = train_test_split(X, y, test_size=0.2, random_state=42)\n",
        "\n",
        "# Convert text data to numerical data using TF-IDF\n",
        "tfidf_vectorizer = TfidfVectorizer(max_features=5000)\n",
        "X_train_tfidf = tfidf_vectorizer.fit_transform(X_train)\n",
        "X_test_tfidf = tfidf_vectorizer.transform(X_test)\n",
        "\n",
        "# Train SVM model\n",
        "model = SVC(kernel='linear')  # Linear kernel for text classification\n",
        "model.fit(X_train_tfidf, y_train)\n",
        "\n",
        "# Predict on test set\n",
        "y_pred = model.predict(X_test_tfidf)\n",
        "\n",
        "# Evaluate model\n",
        "accuracy = accuracy_score(y_test, y_pred)\n",
        "print(f'Accuracy: {accuracy:.2f}')\n",
        "print('\\nClassification Report:\\n', classification_report(y_test, y_pred))\n",
        "\n",
        "# Example of predicting sentiment for a new review\n",
        "new_review = [\"The movie was surprisingly entertaining and fun to watch.\"]\n",
        "new_review_tfidf = tfidf_vectorizer.transform(new_review)\n",
        "prediction = model.predict(new_review_tfidf)\n",
        "print(f'Predicted Sentiment (1=Positive, 0=Negative): {prediction[0]}')\n"
      ],
      "metadata": {
        "colab": {
          "base_uri": "https://localhost:8080/"
        },
        "id": "oL6iaqeKdPu2",
        "outputId": "8df61bd2-7c81-42d2-9e6e-754cd1c9b2bd"
      },
      "execution_count": 4,
      "outputs": [
        {
          "output_type": "stream",
          "name": "stdout",
          "text": [
            "                                              review sentiment\n",
            "0  This movie was fantastic! The plot was engagin...  positive\n",
            "1  I didn't enjoy this movie. The storyline was p...  negative\n",
            "2  The actors did a great job, and I loved the ci...  positive\n",
            "3  The film was a waste of time. I wouldn’t recom...  negative\n",
            "4  An amazing film with a moving story and incred...  positive\n",
            "Accuracy: 1.00\n",
            "\n",
            "Classification Report:\n",
            "               precision    recall  f1-score   support\n",
            "\n",
            "    negative       1.00      1.00      1.00        22\n",
            "    positive       1.00      1.00      1.00        18\n",
            "\n",
            "    accuracy                           1.00        40\n",
            "   macro avg       1.00      1.00      1.00        40\n",
            "weighted avg       1.00      1.00      1.00        40\n",
            "\n",
            "Predicted Sentiment (1=Positive, 0=Negative): negative\n"
          ]
        }
      ]
    }
  ]
}